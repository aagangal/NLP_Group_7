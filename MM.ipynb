{
 "cells": [
  {
   "cell_type": "code",
   "execution_count": 3,
   "metadata": {},
   "outputs": [
    {
     "name": "stderr",
     "output_type": "stream",
     "text": [
      "[nltk_data] Downloading package vader_lexicon to\n",
      "[nltk_data]     C:\\Users\\anaya\\AppData\\Roaming\\nltk_data...\n",
      "[nltk_data]   Package vader_lexicon is already up-to-date!\n"
     ]
    },
    {
     "data": {
      "text/plain": [
       "True"
      ]
     },
     "execution_count": 3,
     "metadata": {},
     "output_type": "execute_result"
    }
   ],
   "source": [
    "import numpy as np\n",
    "import pandas as pd \n",
    "import nltk\n",
    "import re\n",
    "import spacy\n",
    "from gensim import corpora, models\n",
    "import gensim\n",
    "from gensim.matutils import hellinger\n",
    "from scipy.spatial.distance import cosine\n",
    "from nltk.sentiment.vader import SentimentIntensityAnalyzer\n",
    "from sklearn.feature_extraction.text import TfidfVectorizer\n",
    "from sklearn.metrics.pairwise import cosine_similarity\n",
    "nltk.download('vader_lexicon')"
   ]
  },
  {
   "cell_type": "code",
   "execution_count": 4,
   "metadata": {},
   "outputs": [],
   "source": [
    "df = pd.read_csv(r'C:\\Users\\anaya\\OneDrive\\Desktop\\Anay Masters\\Intro to NLP\\NLP_Group_7\\FullyProcessedDataset.csv')\n",
    "\n",
    "tokenized_corpus = [text.split() for text in df['Lemmatized_Lyrics']]\n",
    "\n",
    "dictionary = corpora.Dictionary(tokenized_corpus)\n",
    "corpus = [dictionary.doc2bow(text) for text in tokenized_corpus]\n",
    "\n",
    "lda_model = gensim.models.LdaModel(corpus, num_topics=10, id2word=dictionary, passes=35, random_state = 42)\n",
    "\n",
    "song_topic_distribution = [lda_model[doc] for doc in corpus]\n"
   ]
  },
  {
   "cell_type": "code",
   "execution_count": null,
   "metadata": {},
   "outputs": [],
   "source": [
    "def RecommendSongs(song_topic_distribution, user_input):\n",
    "\n",
    "    user_song = (df.index[df['SName'] == user_input]).item()\n",
    "\n",
    "#################################################################################\n",
    "\n",
    "    def calculate_hellinger_distance(song_dist_1, song_dist_2):\n",
    "        return hellinger(song_dist_1, song_dist_2)\n",
    "\n",
    "    input_song_index = user_song\n",
    "\n",
    "    input_song_dist = song_topic_distribution[input_song_index]\n",
    "\n",
    "    hellinger_distances = []\n",
    "\n",
    "    for i, song_dist in enumerate(song_topic_distribution):\n",
    "\n",
    "        distance = calculate_hellinger_distance(input_song_dist, song_dist)\n",
    "        hellinger_distances.append((distance))\n",
    "\n",
    "    df['HDF'] = hellinger_distances\n",
    "\n",
    "#################################################################################\n",
    "\n",
    "    userGenre = df['Genres'].iloc[user_song]\n",
    "    genreReducedDf = df.loc[df['Genres'] == userGenre]\n",
    "\n",
    "#################################################################################\n",
    "\n",
    "    indexList = genreReducedDf['Unnamed: 0.2'].tolist()\n",
    "    newTopIndex = indexList[0]\n",
    "    userSongIndexUpdated = user_song - newTopIndex\n",
    "    analyzer = SentimentIntensityAnalyzer()\n",
    "\n",
    "    def get_sentiment_score(lyrics):\n",
    "        sentiment = analyzer.polarity_scores(lyrics)\n",
    "        sentiment_score = sentiment['compound']\n",
    "        return sentiment_score\n",
    "\n",
    "    sentiment = get_sentiment_score(genreReducedDf['Lemmatized_Lyrics'].iloc[userSongIndexUpdated])\n",
    "\n",
    "    SSF_list = []\n",
    "    for i in range(genreReducedDf.shape[0]):\n",
    "        SSF_list.append(abs(genreReducedDf['Sentiment'].iloc[i] - sentiment))\n",
    "\n",
    "    genreReducedDf['SSF'] = SSF_list\n",
    "\n",
    "#################################################################################\n",
    "\n",
    "    tfidf_vectorizer = TfidfVectorizer()\n",
    "    CSF_list = []\n",
    "    for i in range(genreReducedDf.shape[0]):\n",
    "        lyrics_matrix = tfidf_vectorizer.fit_transform([genreReducedDf['Lemmatized_Lyrics'].iloc[userSongIndexUpdated], genreReducedDf['Lemmatized_Lyrics'].iloc[i]])\n",
    "        lyrics_similarity = cosine_similarity(lyrics_matrix)\n",
    "        CSF_list.append(1 - (lyrics_similarity[0][1]))\n",
    "    genreReducedDf['CSF'] = CSF_list\n",
    "\n",
    "#################################################################################\n",
    "\n",
    "    genreReducedDf['SF'] = genreReducedDf['SSF'] + genreReducedDf['CSF'] + genreReducedDf['HDF']\n",
    "    genreReducedDf = genreReducedDf.nsmallest(6,[\"SF\"])\n",
    "    genreReducedDf.drop(user_song, axis = 0, inplace = True)\n",
    "\n",
    "#################################################################################\n",
    "\n",
    "    RecommendationDF = genreReducedDf[['Artist', 'SName']]\n",
    "    RecommendationDF.reset_index(inplace = True)\n",
    "    RecommendationDF = RecommendationDF.drop('index', axis = 1)\n",
    "\n",
    "#################################################################################\n",
    "\n",
    "    return RecommendationDF"
   ]
  }
 ],
 "metadata": {
  "kernelspec": {
   "display_name": "base",
   "language": "python",
   "name": "python3"
  },
  "language_info": {
   "codemirror_mode": {
    "name": "ipython",
    "version": 3
   },
   "file_extension": ".py",
   "mimetype": "text/x-python",
   "name": "python",
   "nbconvert_exporter": "python",
   "pygments_lexer": "ipython3",
   "version": "3.11.5"
  }
 },
 "nbformat": 4,
 "nbformat_minor": 2
}
